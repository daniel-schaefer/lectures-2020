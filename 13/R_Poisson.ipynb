{
 "cells": [
  {
   "cell_type": "markdown",
   "metadata": {},
   "source": [
    "# The R Programming Language"
   ]
  },
  {
   "cell_type": "markdown",
   "metadata": {},
   "source": [
    "1. **R**: Popular **open-source programming language** for statistical analysis\n",
    "2. Widely used in statistics and econometrics\n",
    "3. **User-friendly and powerful IDE**: [RStudio](https://www.rstudio.com/)\n",
    "4. Basic functionalities of **R** can be extended by **packages**\n",
    "5. Large number of packages available on the \n",
    "[Comprehensive R Archive Network](https://cran.r-project.org/) (CRAN)\n",
    "6. **Goal of this presentation:** Illustrate how to use `R` for the estimation of a\n",
    "Poisson regression model"
   ]
  },
  {
   "cell_type": "code",
   "execution_count": 1,
   "metadata": {},
   "outputs": [],
   "source": [
    "# install.packages(\"psych\")\n",
    "# install.packages(\"wooldridge\")\n",
    "# install.packages(\"xtable\") "
   ]
  },
  {
   "cell_type": "markdown",
   "metadata": {},
   "source": [
    "## Count data models"
   ]
  },
  {
   "cell_type": "markdown",
   "metadata": {},
   "source": [
    "**Count data** models are used to explain dependent variables that are natural \n",
    "numbers, i.e., positive integers such that $y_i \\in \\mathbb{N}$, where \n",
    "$\\mathbb{N} = \\{0, 1, 2,\\ldots\\}$. \n",
    "\n",
    "Count data models are frequently used in economics to study **countable events**:\n",
    "Number of years of education, number of patent applications filed by companies, \n",
    "number of doctor visits, number of crimes committed in a given city, etc. \n",
    "\n",
    "The **Poisson model** is a popular count data model."
   ]
  },
  {
   "cell_type": "markdown",
   "metadata": {},
   "source": [
    "## Poisson regression model"
   ]
  },
  {
   "cell_type": "markdown",
   "metadata": {},
   "source": [
    "Given a parameter $\\lambda_i > 0$, the **Poisson model** assumes that the \n",
    "probability of observing $Y_i=y_i$, where $y_i\\in\\mathbb{N}$, is equal to:\n",
    "$$Prob(Y_i = y_i \\mid \\lambda_i) = \\frac{\\lambda_i^{y_i}\\exp\\{-\\lambda_i\\}}{y_i!},$$\n",
    "for $i=1,\\ldots,N$.\n",
    "\n",
    "The mean and the variance of $Y_i$ are equal to the parameter $\\lambda_i$:  \n",
    "$$E(Y_i\\mid\\lambda_i) = V(Y_i\\mid\\lambda_i) = \\lambda_i,$$\n",
    "implying *equi-dispersion* of the data.\n",
    "\n",
    "To control for **observed characteristics**, the parameter $\\lambda_i$ can be \n",
    "parametrized as follows (implying $\\lambda_i > 0$):\n",
    "$$E(Y_i|X_i,\\beta) \\equiv \\lambda_i = \\exp\\{X_i'\\beta\\},$$\n",
    "where $X_i$ is a vector containing the covariates."
   ]
  },
  {
   "cell_type": "markdown",
   "metadata": {
    "lines_to_next_cell": 0
   },
   "source": [
    "## Simulating data"
   ]
  },
  {
   "cell_type": "markdown",
   "metadata": {
    "lines_to_next_cell": 0
   },
   "source": [
    "`R` function simulating data from Poisson regression model:"
   ]
  },
  {
   "cell_type": "code",
   "execution_count": 2,
   "metadata": {
    "lines_to_next_cell": 0
   },
   "outputs": [],
   "source": [
    "simul_poisson <- function(n, beta) {\n",
    "  k <- length(beta)               # number of covariates\n",
    "  x <- replicate(k - 1, rnorm(n)) # simulate covariates\n",
    "  x <- cbind(1, x)                # for intercept term\n",
    "  lambda <- exp(x %*% beta)       # individual means\n",
    "  y <- rpois(n, lambda)           # simulate count\n",
    "  return(data.frame(y, x))        # return variables\n",
    "}"
   ]
  },
  {
   "cell_type": "markdown",
   "metadata": {
    "lines_to_next_cell": 0
   },
   "source": [
    "Using function to generate data:"
   ]
  },
  {
   "cell_type": "code",
   "execution_count": 3,
   "metadata": {},
   "outputs": [],
   "source": [
    "set.seed(123)\n",
    "nobs <- 1000\n",
    "beta <- c(-.5, .4, -.7)\n",
    "data <- simul_poisson(nobs, beta)"
   ]
  },
  {
   "cell_type": "markdown",
   "metadata": {
    "lines_to_next_cell": 0
   },
   "source": [
    "## Data description"
   ]
  },
  {
   "cell_type": "markdown",
   "metadata": {
    "lines_to_next_cell": 0
   },
   "source": [
    "Descriptive statistics:"
   ]
  },
  {
   "cell_type": "code",
   "execution_count": 4,
   "metadata": {},
   "outputs": [
    {
     "name": "stderr",
     "output_type": "stream",
     "text": [
      "Warning message:\n",
      "\"package 'psych' was built under R version 3.6.3\""
     ]
    },
    {
     "data": {
      "text/html": [
       "<table>\n",
       "<caption>A df[,13]: 4 × 13</caption>\n",
       "<thead>\n",
       "\t<tr><th></th><th scope=col>vars</th><th scope=col>n</th><th scope=col>mean</th><th scope=col>sd</th><th scope=col>median</th><th scope=col>trimmed</th><th scope=col>mad</th><th scope=col>min</th><th scope=col>max</th><th scope=col>range</th><th scope=col>skew</th><th scope=col>kurtosis</th><th scope=col>se</th></tr>\n",
       "\t<tr><th></th><th scope=col>&lt;int&gt;</th><th scope=col>&lt;dbl&gt;</th><th scope=col>&lt;dbl&gt;</th><th scope=col>&lt;dbl&gt;</th><th scope=col>&lt;dbl&gt;</th><th scope=col>&lt;dbl&gt;</th><th scope=col>&lt;dbl&gt;</th><th scope=col>&lt;dbl&gt;</th><th scope=col>&lt;dbl&gt;</th><th scope=col>&lt;dbl&gt;</th><th scope=col>&lt;dbl&gt;</th><th scope=col>&lt;dbl&gt;</th><th scope=col>&lt;dbl&gt;</th></tr>\n",
       "</thead>\n",
       "<tbody>\n",
       "\t<tr><th scope=row>y</th><td>1</td><td>1000</td><td>0.75600000</td><td>1.081496</td><td>0.000000000</td><td>0.542500000</td><td>0.0000000</td><td> 0.000000</td><td>8.000000</td><td>8.000000</td><td> 2.0410562</td><td> 5.92292208</td><td>0.03419991</td></tr>\n",
       "\t<tr><th scope=row>X1</th><td>2</td><td>1000</td><td>1.00000000</td><td>0.000000</td><td>1.000000000</td><td>1.000000000</td><td>0.0000000</td><td> 1.000000</td><td>1.000000</td><td>0.000000</td><td>       NaN</td><td>        NaN</td><td>0.00000000</td></tr>\n",
       "\t<tr><th scope=row>X2</th><td>3</td><td>1000</td><td>0.01612787</td><td>0.991695</td><td>0.009209639</td><td>0.008963342</td><td>0.9641412</td><td>-2.809775</td><td>3.241040</td><td>6.050815</td><td> 0.0651960</td><td>-0.08010201</td><td>0.03136015</td></tr>\n",
       "\t<tr><th scope=row>X3</th><td>4</td><td>1000</td><td>0.04246525</td><td>1.009674</td><td>0.054852377</td><td>0.048416669</td><td>1.0469486</td><td>-3.047861</td><td>3.390371</td><td>6.438232</td><td>-0.0105134</td><td>-0.07188844</td><td>0.03192870</td></tr>\n",
       "</tbody>\n",
       "</table>\n"
      ],
      "text/latex": [
       "A df[,13]: 4 × 13\n",
       "\\begin{tabular}{r|lllllllllllll}\n",
       "  & vars & n & mean & sd & median & trimmed & mad & min & max & range & skew & kurtosis & se\\\\\n",
       "  & <int> & <dbl> & <dbl> & <dbl> & <dbl> & <dbl> & <dbl> & <dbl> & <dbl> & <dbl> & <dbl> & <dbl> & <dbl>\\\\\n",
       "\\hline\n",
       "\ty & 1 & 1000 & 0.75600000 & 1.081496 & 0.000000000 & 0.542500000 & 0.0000000 &  0.000000 & 8.000000 & 8.000000 &  2.0410562 &  5.92292208 & 0.03419991\\\\\n",
       "\tX1 & 2 & 1000 & 1.00000000 & 0.000000 & 1.000000000 & 1.000000000 & 0.0000000 &  1.000000 & 1.000000 & 0.000000 &        NaN &         NaN & 0.00000000\\\\\n",
       "\tX2 & 3 & 1000 & 0.01612787 & 0.991695 & 0.009209639 & 0.008963342 & 0.9641412 & -2.809775 & 3.241040 & 6.050815 &  0.0651960 & -0.08010201 & 0.03136015\\\\\n",
       "\tX3 & 4 & 1000 & 0.04246525 & 1.009674 & 0.054852377 & 0.048416669 & 1.0469486 & -3.047861 & 3.390371 & 6.438232 & -0.0105134 & -0.07188844 & 0.03192870\\\\\n",
       "\\end{tabular}\n"
      ],
      "text/markdown": [
       "\n",
       "A df[,13]: 4 × 13\n",
       "\n",
       "| <!--/--> | vars &lt;int&gt; | n &lt;dbl&gt; | mean &lt;dbl&gt; | sd &lt;dbl&gt; | median &lt;dbl&gt; | trimmed &lt;dbl&gt; | mad &lt;dbl&gt; | min &lt;dbl&gt; | max &lt;dbl&gt; | range &lt;dbl&gt; | skew &lt;dbl&gt; | kurtosis &lt;dbl&gt; | se &lt;dbl&gt; |\n",
       "|---|---|---|---|---|---|---|---|---|---|---|---|---|---|\n",
       "| y | 1 | 1000 | 0.75600000 | 1.081496 | 0.000000000 | 0.542500000 | 0.0000000 |  0.000000 | 8.000000 | 8.000000 |  2.0410562 |  5.92292208 | 0.03419991 |\n",
       "| X1 | 2 | 1000 | 1.00000000 | 0.000000 | 1.000000000 | 1.000000000 | 0.0000000 |  1.000000 | 1.000000 | 0.000000 |        NaN |         NaN | 0.00000000 |\n",
       "| X2 | 3 | 1000 | 0.01612787 | 0.991695 | 0.009209639 | 0.008963342 | 0.9641412 | -2.809775 | 3.241040 | 6.050815 |  0.0651960 | -0.08010201 | 0.03136015 |\n",
       "| X3 | 4 | 1000 | 0.04246525 | 1.009674 | 0.054852377 | 0.048416669 | 1.0469486 | -3.047861 | 3.390371 | 6.438232 | -0.0105134 | -0.07188844 | 0.03192870 |\n",
       "\n"
      ],
      "text/plain": [
       "   vars n    mean       sd       median      trimmed     mad       min      \n",
       "y  1    1000 0.75600000 1.081496 0.000000000 0.542500000 0.0000000  0.000000\n",
       "X1 2    1000 1.00000000 0.000000 1.000000000 1.000000000 0.0000000  1.000000\n",
       "X2 3    1000 0.01612787 0.991695 0.009209639 0.008963342 0.9641412 -2.809775\n",
       "X3 4    1000 0.04246525 1.009674 0.054852377 0.048416669 1.0469486 -3.047861\n",
       "   max      range    skew       kurtosis    se        \n",
       "y  8.000000 8.000000  2.0410562  5.92292208 0.03419991\n",
       "X1 1.000000 0.000000        NaN         NaN 0.00000000\n",
       "X2 3.241040 6.050815  0.0651960 -0.08010201 0.03136015\n",
       "X3 3.390371 6.438232 -0.0105134 -0.07188844 0.03192870"
      ]
     },
     "metadata": {},
     "output_type": "display_data"
    }
   ],
   "source": [
    "# extract variables of interest from data set\n",
    "y <- data[, 1]\n",
    "x <- as.matrix(data[, 2:4])\n",
    "\n",
    "# descriptive statistics\n",
    "library(psych)\n",
    "describe(data)"
   ]
  },
  {
   "cell_type": "markdown",
   "metadata": {
    "lines_to_next_cell": 0
   },
   "source": [
    "## Data Description"
   ]
  },
  {
   "cell_type": "markdown",
   "metadata": {
    "lines_to_next_cell": 0
   },
   "source": [
    "Histogram of count variable:"
   ]
  },
  {
   "cell_type": "code",
   "execution_count": 5,
   "metadata": {
    "fig.height": 5
   },
   "outputs": [
    {
     "data": {
      "image/png": "[encoded data removed]",
      "text/plain": [
       "plot without title"
      ]
     },
     "metadata": {},
     "output_type": "display_data"
    }
   ],
   "source": [
    "barplot(table(y))"
   ]
  },
  {
   "cell_type": "markdown",
   "metadata": {
    "lines_to_next_cell": 0
   },
   "source": [
    "## Data Description"
   ]
  },
  {
   "cell_type": "markdown",
   "metadata": {
    "lines_to_next_cell": 0
   },
   "source": [
    "Relationship between count variable and covariates:"
   ]
  },
  {
   "cell_type": "code",
   "execution_count": 6,
   "metadata": {
    "fig.height": 5
   },
   "outputs": [
    {
     "data": {
      "image/png": "[encoded data removed]",
      "text/plain": [
       "plot without title"
      ]
     },
     "metadata": {},
     "output_type": "display_data"
    }
   ],
   "source": [
    "par(mfrow = c(1, 2))\n",
    "plot(y, x[, 2])\n",
    "plot(y, x[, 3])"
   ]
  },
  {
   "cell_type": "markdown",
   "metadata": {},
   "source": [
    "## Likelihood Function and ML Estimator"
   ]
  },
  {
   "cell_type": "markdown",
   "metadata": {},
   "source": [
    "Individual contribution to the likelihood function:\n",
    "$$L_i(\\beta;y_i,x_i) = \\frac{\\exp\\{y_ix_i\\beta\\}\\exp\\{-\\exp\\{x_i\\beta\\}\\}}{y_i!}$$\n",
    "Individual log-Likelihood function:\n",
    "$$\\ell_i(\\beta;y_i,x_i) = \\log L_i(\\beta;y_i,x_i) \n",
    "= y_ix_i\\beta - \\exp\\{x_i\\beta\\} - \\log(y_i!)$$\n",
    "\n",
    "Maximum Likelihood Estimator:\n",
    "$$\\hat{\\beta}_{\\text{MLE}} = \\arg\\max_{\\beta} \\sum_{i=1}^N \\ell(\\beta;y,X)$$\n",
    "\n",
    "Optimization (using *minimization* of objective function): \n",
    "$$\\hat{\\beta}_{\\text{MLE}} = \\arg\\min_{\\beta} Q(\\beta;y,X) \\qquad\n",
    "Q(\\beta;y,X) = -\\frac{1}{N}\\sum_{i=1}^N \\ell_i(\\beta;y_i,x_i)$$"
   ]
  },
  {
   "cell_type": "markdown",
   "metadata": {},
   "source": [
    "## Coding the Objective Function"
   ]
  },
  {
   "cell_type": "code",
   "execution_count": 7,
   "metadata": {},
   "outputs": [
    {
     "data": {
      "text/html": [
       "1757.1130689111"
      ],
      "text/latex": [
       "1757.1130689111"
      ],
      "text/markdown": [
       "1757.1130689111"
      ],
      "text/plain": [
       "[1] 1757.113"
      ]
     },
     "metadata": {},
     "output_type": "display_data"
    }
   ],
   "source": [
    "# Objective function of Poisson regression model\n",
    "obj_poisson <- function(beta, y, x) {\n",
    "  lambda <- x %*% beta\n",
    "  llik <- y*lambda - exp(lambda) - lfactorial(y)\n",
    "  return(-mean(llik))\n",
    "}\n",
    "\n",
    "# Evaluating objective function\n",
    "beta0 <- c(1, 2, 3)\n",
    "obj_poisson(beta0, y, x)"
   ]
  },
  {
   "cell_type": "markdown",
   "metadata": {
    "lines_to_next_cell": 0
   },
   "source": [
    "## Maximizing the Objective Function\n",
    "\n",
    "Set starting values:"
   ]
  },
  {
   "cell_type": "code",
   "execution_count": 8,
   "metadata": {
    "lines_to_next_cell": 0
   },
   "outputs": [],
   "source": [
    "beta0 <- rep(0, length(beta))"
   ]
  },
  {
   "cell_type": "markdown",
   "metadata": {
    "lines_to_next_cell": 0
   },
   "source": [
    "Optimize using quasi-Newton method (BFGS algorithm):"
   ]
  },
  {
   "cell_type": "code",
   "execution_count": 9,
   "metadata": {
    "lines_to_next_cell": 0
   },
   "outputs": [],
   "source": [
    "opt <- optim(beta0, obj_poisson, method = \"BFGS\", \n",
    "             y = y, x = x)"
   ]
  },
  {
   "cell_type": "markdown",
   "metadata": {
    "lines_to_next_cell": 0
   },
   "source": [
    "Show results:"
   ]
  },
  {
   "cell_type": "code",
   "execution_count": 10,
   "metadata": {},
   "outputs": [
    {
     "name": "stdout",
     "output_type": "stream",
     "text": [
      "ML estimates: -0.5740286 0.3921569 -0.7231029 \n",
      "Objective function: 0.9998689 \n"
     ]
    }
   ],
   "source": [
    "cat(\"ML estimates:\", opt$par,\n",
    "    \"\\nObjective function:\", opt$value, \"\\n\")"
   ]
  },
  {
   "cell_type": "markdown",
   "metadata": {},
   "source": [
    "## Comparing Results to Built-in Function"
   ]
  },
  {
   "cell_type": "code",
   "execution_count": 11,
   "metadata": {},
   "outputs": [
    {
     "data": {
      "text/plain": [
       "\n",
       "Call:\n",
       "glm(formula = y ~ 0 + x, family = poisson)\n",
       "\n",
       "Deviance Residuals: \n",
       "    Min       1Q   Median       3Q      Max  \n",
       "-2.1707  -0.9185  -0.5915   0.5133   3.6768  \n",
       "\n",
       "Coefficients:\n",
       "    Estimate Std. Error z value Pr(>|z|)    \n",
       "xX1 -0.57403    0.04602  -12.47   <2e-16 ***\n",
       "xX2  0.39216    0.03690   10.63   <2e-16 ***\n",
       "xX3 -0.72310    0.03662  -19.74   <2e-16 ***\n",
       "---\n",
       "Signif. codes:  0 '***' 0.001 '**' 0.01 '*' 0.05 '.' 0.1 ' ' 1\n",
       "\n",
       "(Dispersion parameter for poisson family taken to be 1)\n",
       "\n",
       "    Null deviance: 1475.06  on 1000  degrees of freedom\n",
       "Residual deviance:  930.17  on  997  degrees of freedom\n",
       "AIC: 2005.7\n",
       "\n",
       "Number of Fisher Scoring iterations: 5\n"
      ]
     },
     "metadata": {},
     "output_type": "display_data"
    }
   ],
   "source": [
    "opt_glm <- glm(y ~ 0 + x, family = poisson)\n",
    "summary(opt_glm)"
   ]
  },
  {
   "cell_type": "markdown",
   "metadata": {
    "lines_to_next_cell": 0
   },
   "source": [
    "## Comparing Results to Built-in Function"
   ]
  },
  {
   "cell_type": "markdown",
   "metadata": {
    "lines_to_next_cell": 0
   },
   "source": [
    "Collect results from the two approaches to compare them:"
   ]
  },
  {
   "cell_type": "code",
   "execution_count": 12,
   "metadata": {},
   "outputs": [
    {
     "data": {
      "text/html": [
       "<table>\n",
       "<caption>A matrix: 3 × 3 of type dbl[,3]</caption>\n",
       "<thead>\n",
       "\t<tr><th></th><th scope=col>True</th><th scope=col>MLE</th><th scope=col>GLM</th></tr>\n",
       "</thead>\n",
       "<tbody>\n",
       "\t<tr><th scope=row>constant</th><td>-0.5</td><td>-0.5740286</td><td>-0.5740289</td></tr>\n",
       "\t<tr><th scope=row>x1</th><td> 0.4</td><td> 0.3921569</td><td> 0.3921561</td></tr>\n",
       "\t<tr><th scope=row>x2</th><td>-0.7</td><td>-0.7231029</td><td>-0.7231039</td></tr>\n",
       "</tbody>\n",
       "</table>\n"
      ],
      "text/latex": [
       "A matrix: 3 × 3 of type dbl{[},3{]}\n",
       "\\begin{tabular}{r|lll}\n",
       "  & True & MLE & GLM\\\\\n",
       "\\hline\n",
       "\tconstant & -0.5 & -0.5740286 & -0.5740289\\\\\n",
       "\tx1 &  0.4 &  0.3921569 &  0.3921561\\\\\n",
       "\tx2 & -0.7 & -0.7231029 & -0.7231039\\\\\n",
       "\\end{tabular}\n"
      ],
      "text/markdown": [
       "\n",
       "A matrix: 3 × 3 of type dbl[,3]\n",
       "\n",
       "| <!--/--> | True | MLE | GLM |\n",
       "|---|---|---|---|\n",
       "| constant | -0.5 | -0.5740286 | -0.5740289 |\n",
       "| x1 |  0.4 |  0.3921569 |  0.3921561 |\n",
       "| x2 | -0.7 | -0.7231029 | -0.7231039 |\n",
       "\n"
      ],
      "text/plain": [
       "         True MLE        GLM       \n",
       "constant -0.5 -0.5740286 -0.5740289\n",
       "x1        0.4  0.3921569  0.3921561\n",
       "x2       -0.7 -0.7231029 -0.7231039"
      ]
     },
     "metadata": {},
     "output_type": "display_data"
    }
   ],
   "source": [
    "res <- cbind(\"True\" = beta, \"MLE\" = opt$par, \n",
    "             \"GLM\" = opt_glm$coefficients)\n",
    "row.names(res) <- c(\"constant\", \"x1\", \"x2\")\n",
    "res"
   ]
  },
  {
   "cell_type": "markdown",
   "metadata": {},
   "source": [
    "**Question:** Our results (`MLE`) are virtually the same as those obtained \n",
    "with the built-in function `GLM`, but not identical. Where do the small \n",
    "differences come from?"
   ]
  },
  {
   "cell_type": "markdown",
   "metadata": {
    "lines_to_next_cell": 0
   },
   "source": [
    "## Empirical Illustration\n",
    "\n",
    "**Goal:** Investigate the determinants of fertility.\n",
    "\n",
    "Poisson regression model used to estimate the relationship between explanatory\n",
    "variables and count outcome variable.\n",
    "\n",
    "Both our estimator coded from scratch and `R` built-in function will be used."
   ]
  },
  {
   "cell_type": "markdown",
   "metadata": {
    "lines_to_next_cell": 0
   },
   "source": [
    "## Data\n",
    "\n",
    "**Source:** Botswana's 1988 Demographic and Health Survey.\n",
    "\n",
    "Data set borrowed from Wooldridge:"
   ]
  },
  {
   "cell_type": "code",
   "execution_count": 13,
   "metadata": {
    "lines_to_next_cell": 0
   },
   "outputs": [
    {
     "name": "stderr",
     "output_type": "stream",
     "text": [
      "Warning message:\n",
      "\"package 'wooldridge' was built under R version 3.6.3\""
     ]
    }
   ],
   "source": [
    "library(wooldridge)\n",
    "data(fertil2)"
   ]
  },
  {
   "cell_type": "markdown",
   "metadata": {
    "lines_to_next_cell": 0
   },
   "source": [
    "Outcome variable: Total number of living children:"
   ]
  },
  {
   "cell_type": "code",
   "execution_count": 14,
   "metadata": {
    "lines_to_next_cell": 0
   },
   "outputs": [],
   "source": [
    "y_lab <- \"children\""
   ]
  },
  {
   "cell_type": "markdown",
   "metadata": {
    "lines_to_next_cell": 0
   },
   "source": [
    "Explanatory variables: Education, age, marital status, living in urban area,\n",
    "having electricity/TV at home:"
   ]
  },
  {
   "cell_type": "code",
   "execution_count": 15,
   "metadata": {},
   "outputs": [],
   "source": [
    "x_lab <- c(\"educ\", \"age\", \"agesq\", \"evermarr\", \"urban\", \n",
    "           \"electric\", \"tv\")"
   ]
  },
  {
   "cell_type": "markdown",
   "metadata": {
    "lines_to_next_cell": 0
   },
   "source": [
    "## Loading data"
   ]
  },
  {
   "cell_type": "markdown",
   "metadata": {
    "lines_to_next_cell": 0
   },
   "source": [
    "Selecting variables and removing missing values:"
   ]
  },
  {
   "cell_type": "code",
   "execution_count": 16,
   "metadata": {},
   "outputs": [],
   "source": [
    "data <- fertil2[, c(y_lab, x_lab)]\n",
    "data <- na.omit(data)"
   ]
  },
  {
   "cell_type": "markdown",
   "metadata": {
    "lines_to_next_cell": 0
   },
   "source": [
    "Show first 6 observations on first 8 variables:"
   ]
  },
  {
   "cell_type": "code",
   "execution_count": 17,
   "metadata": {},
   "outputs": [
    {
     "data": {
      "text/html": [
       "<table>\n",
       "<caption>A df[,8]: 6 × 8</caption>\n",
       "<thead>\n",
       "\t<tr><th scope=col>children</th><th scope=col>educ</th><th scope=col>age</th><th scope=col>agesq</th><th scope=col>evermarr</th><th scope=col>urban</th><th scope=col>electric</th><th scope=col>tv</th></tr>\n",
       "\t<tr><th scope=col>&lt;int&gt;</th><th scope=col>&lt;int&gt;</th><th scope=col>&lt;int&gt;</th><th scope=col>&lt;int&gt;</th><th scope=col>&lt;int&gt;</th><th scope=col>&lt;int&gt;</th><th scope=col>&lt;int&gt;</th><th scope=col>&lt;int&gt;</th></tr>\n",
       "</thead>\n",
       "<tbody>\n",
       "\t<tr><td>0</td><td>12</td><td>24</td><td> 576</td><td>0</td><td>1</td><td>1</td><td>1</td></tr>\n",
       "\t<tr><td>3</td><td>13</td><td>32</td><td>1024</td><td>1</td><td>1</td><td>1</td><td>1</td></tr>\n",
       "\t<tr><td>1</td><td> 5</td><td>30</td><td> 900</td><td>1</td><td>1</td><td>1</td><td>0</td></tr>\n",
       "\t<tr><td>2</td><td> 4</td><td>42</td><td>1764</td><td>1</td><td>1</td><td>1</td><td>1</td></tr>\n",
       "\t<tr><td>2</td><td>11</td><td>43</td><td>1849</td><td>1</td><td>1</td><td>1</td><td>1</td></tr>\n",
       "\t<tr><td>1</td><td> 7</td><td>36</td><td>1296</td><td>1</td><td>1</td><td>1</td><td>0</td></tr>\n",
       "</tbody>\n",
       "</table>\n"
      ],
      "text/latex": [
       "A df[,8]: 6 × 8\n",
       "\\begin{tabular}{r|llllllll}\n",
       " children & educ & age & agesq & evermarr & urban & electric & tv\\\\\n",
       " <int> & <int> & <int> & <int> & <int> & <int> & <int> & <int>\\\\\n",
       "\\hline\n",
       "\t 0 & 12 & 24 &  576 & 0 & 1 & 1 & 1\\\\\n",
       "\t 3 & 13 & 32 & 1024 & 1 & 1 & 1 & 1\\\\\n",
       "\t 1 &  5 & 30 &  900 & 1 & 1 & 1 & 0\\\\\n",
       "\t 2 &  4 & 42 & 1764 & 1 & 1 & 1 & 1\\\\\n",
       "\t 2 & 11 & 43 & 1849 & 1 & 1 & 1 & 1\\\\\n",
       "\t 1 &  7 & 36 & 1296 & 1 & 1 & 1 & 0\\\\\n",
       "\\end{tabular}\n"
      ],
      "text/markdown": [
       "\n",
       "A df[,8]: 6 × 8\n",
       "\n",
       "| children &lt;int&gt; | educ &lt;int&gt; | age &lt;int&gt; | agesq &lt;int&gt; | evermarr &lt;int&gt; | urban &lt;int&gt; | electric &lt;int&gt; | tv &lt;int&gt; |\n",
       "|---|---|---|---|---|---|---|---|\n",
       "| 0 | 12 | 24 |  576 | 0 | 1 | 1 | 1 |\n",
       "| 3 | 13 | 32 | 1024 | 1 | 1 | 1 | 1 |\n",
       "| 1 |  5 | 30 |  900 | 1 | 1 | 1 | 0 |\n",
       "| 2 |  4 | 42 | 1764 | 1 | 1 | 1 | 1 |\n",
       "| 2 | 11 | 43 | 1849 | 1 | 1 | 1 | 1 |\n",
       "| 1 |  7 | 36 | 1296 | 1 | 1 | 1 | 0 |\n",
       "\n"
      ],
      "text/plain": [
       "  children educ age agesq evermarr urban electric tv\n",
       "1 0        12   24   576  0        1     1        1 \n",
       "2 3        13   32  1024  1        1     1        1 \n",
       "3 1         5   30   900  1        1     1        0 \n",
       "4 2         4   42  1764  1        1     1        1 \n",
       "5 2        11   43  1849  1        1     1        1 \n",
       "6 1         7   36  1296  1        1     1        0 "
      ]
     },
     "metadata": {},
     "output_type": "display_data"
    }
   ],
   "source": [
    "head(data[, 1:8], n = 6)"
   ]
  },
  {
   "cell_type": "markdown",
   "metadata": {},
   "source": [
    "## Descriptive Statitics"
   ]
  },
  {
   "cell_type": "code",
   "execution_count": 18,
   "metadata": {},
   "outputs": [
    {
     "data": {
      "text/html": [
       "<table>\n",
       "<caption>A df[,13]: 8 × 13</caption>\n",
       "<thead>\n",
       "\t<tr><th></th><th scope=col>vars</th><th scope=col>n</th><th scope=col>mean</th><th scope=col>sd</th><th scope=col>median</th><th scope=col>trimmed</th><th scope=col>mad</th><th scope=col>min</th><th scope=col>max</th><th scope=col>range</th><th scope=col>skew</th><th scope=col>kurtosis</th><th scope=col>se</th></tr>\n",
       "\t<tr><th></th><th scope=col>&lt;int&gt;</th><th scope=col>&lt;dbl&gt;</th><th scope=col>&lt;dbl&gt;</th><th scope=col>&lt;dbl&gt;</th><th scope=col>&lt;dbl&gt;</th><th scope=col>&lt;dbl&gt;</th><th scope=col>&lt;dbl&gt;</th><th scope=col>&lt;dbl&gt;</th><th scope=col>&lt;dbl&gt;</th><th scope=col>&lt;dbl&gt;</th><th scope=col>&lt;dbl&gt;</th><th scope=col>&lt;dbl&gt;</th><th scope=col>&lt;dbl&gt;</th></tr>\n",
       "</thead>\n",
       "<tbody>\n",
       "\t<tr><th scope=row>children</th><td>1</td><td>4358</td><td>  2.26755392</td><td>  2.2219115</td><td>  2</td><td>  1.95355505</td><td>  2.9652</td><td>  0</td><td>  13</td><td>  13</td><td> 1.07461443</td><td> 0.7535459</td><td>0.033657599</td></tr>\n",
       "\t<tr><th scope=row>educ</th><td>2</td><td>4358</td><td>  5.85612666</td><td>  3.9268849</td><td>  7</td><td>  5.79271789</td><td>  4.4478</td><td>  0</td><td>  20</td><td>  20</td><td>-0.02676386</td><td>-0.4977637</td><td>0.059484602</td></tr>\n",
       "\t<tr><th scope=row>age</th><td>3</td><td>4358</td><td> 27.40431391</td><td>  8.6858782</td><td> 26</td><td> 26.71014908</td><td>  8.8956</td><td> 15</td><td>  49</td><td>  34</td><td> 0.59127861</td><td>-0.4947282</td><td>0.131574013</td></tr>\n",
       "\t<tr><th scope=row>agesq</th><td>4</td><td>4358</td><td>826.42358880</td><td>526.9622499</td><td>676</td><td>752.86897936</td><td>467.0190</td><td>225</td><td>2401</td><td>2176</td><td> 1.10025766</td><td> 0.5186238</td><td>7.982444206</td></tr>\n",
       "\t<tr><th scope=row>evermarr</th><td>5</td><td>4358</td><td>  0.47636531</td><td>  0.4994984</td><td>  0</td><td>  0.47047018</td><td>  0.0000</td><td>  0</td><td>   1</td><td>   1</td><td> 0.09461200</td><td>-1.9915054</td><td>0.007566421</td></tr>\n",
       "\t<tr><th scope=row>urban</th><td>6</td><td>4358</td><td>  0.51652134</td><td>  0.4997843</td><td>  1</td><td>  0.52064220</td><td>  0.0000</td><td>  0</td><td>   1</td><td>   1</td><td>-0.06609871</td><td>-1.9960888</td><td>0.007570752</td></tr>\n",
       "\t<tr><th scope=row>electric</th><td>7</td><td>4358</td><td>  0.14020193</td><td>  0.3472363</td><td>  0</td><td>  0.05045872</td><td>  0.0000</td><td>  0</td><td>   1</td><td>   1</td><td> 2.07187764</td><td> 2.2932033</td><td>0.005259948</td></tr>\n",
       "\t<tr><th scope=row>tv</th><td>8</td><td>4358</td><td>  0.09293254</td><td>  0.2903712</td><td>  0</td><td>  0.00000000</td><td>  0.0000</td><td>  0</td><td>   1</td><td>   1</td><td> 2.80312970</td><td> 5.8588807</td><td>0.004398554</td></tr>\n",
       "</tbody>\n",
       "</table>\n"
      ],
      "text/latex": [
       "A df[,13]: 8 × 13\n",
       "\\begin{tabular}{r|lllllllllllll}\n",
       "  & vars & n & mean & sd & median & trimmed & mad & min & max & range & skew & kurtosis & se\\\\\n",
       "  & <int> & <dbl> & <dbl> & <dbl> & <dbl> & <dbl> & <dbl> & <dbl> & <dbl> & <dbl> & <dbl> & <dbl> & <dbl>\\\\\n",
       "\\hline\n",
       "\tchildren & 1 & 4358 &   2.26755392 &   2.2219115 &   2 &   1.95355505 &   2.9652 &   0 &   13 &   13 &  1.07461443 &  0.7535459 & 0.033657599\\\\\n",
       "\teduc & 2 & 4358 &   5.85612666 &   3.9268849 &   7 &   5.79271789 &   4.4478 &   0 &   20 &   20 & -0.02676386 & -0.4977637 & 0.059484602\\\\\n",
       "\tage & 3 & 4358 &  27.40431391 &   8.6858782 &  26 &  26.71014908 &   8.8956 &  15 &   49 &   34 &  0.59127861 & -0.4947282 & 0.131574013\\\\\n",
       "\tagesq & 4 & 4358 & 826.42358880 & 526.9622499 & 676 & 752.86897936 & 467.0190 & 225 & 2401 & 2176 &  1.10025766 &  0.5186238 & 7.982444206\\\\\n",
       "\tevermarr & 5 & 4358 &   0.47636531 &   0.4994984 &   0 &   0.47047018 &   0.0000 &   0 &    1 &    1 &  0.09461200 & -1.9915054 & 0.007566421\\\\\n",
       "\turban & 6 & 4358 &   0.51652134 &   0.4997843 &   1 &   0.52064220 &   0.0000 &   0 &    1 &    1 & -0.06609871 & -1.9960888 & 0.007570752\\\\\n",
       "\telectric & 7 & 4358 &   0.14020193 &   0.3472363 &   0 &   0.05045872 &   0.0000 &   0 &    1 &    1 &  2.07187764 &  2.2932033 & 0.005259948\\\\\n",
       "\ttv & 8 & 4358 &   0.09293254 &   0.2903712 &   0 &   0.00000000 &   0.0000 &   0 &    1 &    1 &  2.80312970 &  5.8588807 & 0.004398554\\\\\n",
       "\\end{tabular}\n"
      ],
      "text/markdown": [
       "\n",
       "A df[,13]: 8 × 13\n",
       "\n",
       "| <!--/--> | vars &lt;int&gt; | n &lt;dbl&gt; | mean &lt;dbl&gt; | sd &lt;dbl&gt; | median &lt;dbl&gt; | trimmed &lt;dbl&gt; | mad &lt;dbl&gt; | min &lt;dbl&gt; | max &lt;dbl&gt; | range &lt;dbl&gt; | skew &lt;dbl&gt; | kurtosis &lt;dbl&gt; | se &lt;dbl&gt; |\n",
       "|---|---|---|---|---|---|---|---|---|---|---|---|---|---|\n",
       "| children | 1 | 4358 |   2.26755392 |   2.2219115 |   2 |   1.95355505 |   2.9652 |   0 |   13 |   13 |  1.07461443 |  0.7535459 | 0.033657599 |\n",
       "| educ | 2 | 4358 |   5.85612666 |   3.9268849 |   7 |   5.79271789 |   4.4478 |   0 |   20 |   20 | -0.02676386 | -0.4977637 | 0.059484602 |\n",
       "| age | 3 | 4358 |  27.40431391 |   8.6858782 |  26 |  26.71014908 |   8.8956 |  15 |   49 |   34 |  0.59127861 | -0.4947282 | 0.131574013 |\n",
       "| agesq | 4 | 4358 | 826.42358880 | 526.9622499 | 676 | 752.86897936 | 467.0190 | 225 | 2401 | 2176 |  1.10025766 |  0.5186238 | 7.982444206 |\n",
       "| evermarr | 5 | 4358 |   0.47636531 |   0.4994984 |   0 |   0.47047018 |   0.0000 |   0 |    1 |    1 |  0.09461200 | -1.9915054 | 0.007566421 |\n",
       "| urban | 6 | 4358 |   0.51652134 |   0.4997843 |   1 |   0.52064220 |   0.0000 |   0 |    1 |    1 | -0.06609871 | -1.9960888 | 0.007570752 |\n",
       "| electric | 7 | 4358 |   0.14020193 |   0.3472363 |   0 |   0.05045872 |   0.0000 |   0 |    1 |    1 |  2.07187764 |  2.2932033 | 0.005259948 |\n",
       "| tv | 8 | 4358 |   0.09293254 |   0.2903712 |   0 |   0.00000000 |   0.0000 |   0 |    1 |    1 |  2.80312970 |  5.8588807 | 0.004398554 |\n",
       "\n"
      ],
      "text/plain": [
       "         vars n    mean         sd          median trimmed      mad      min\n",
       "children 1    4358   2.26755392   2.2219115   2      1.95355505   2.9652   0\n",
       "educ     2    4358   5.85612666   3.9268849   7      5.79271789   4.4478   0\n",
       "age      3    4358  27.40431391   8.6858782  26     26.71014908   8.8956  15\n",
       "agesq    4    4358 826.42358880 526.9622499 676    752.86897936 467.0190 225\n",
       "evermarr 5    4358   0.47636531   0.4994984   0      0.47047018   0.0000   0\n",
       "urban    6    4358   0.51652134   0.4997843   1      0.52064220   0.0000   0\n",
       "electric 7    4358   0.14020193   0.3472363   0      0.05045872   0.0000   0\n",
       "tv       8    4358   0.09293254   0.2903712   0      0.00000000   0.0000   0\n",
       "         max  range skew        kurtosis   se         \n",
       "children   13   13   1.07461443  0.7535459 0.033657599\n",
       "educ       20   20  -0.02676386 -0.4977637 0.059484602\n",
       "age        49   34   0.59127861 -0.4947282 0.131574013\n",
       "agesq    2401 2176   1.10025766  0.5186238 7.982444206\n",
       "evermarr    1    1   0.09461200 -1.9915054 0.007566421\n",
       "urban       1    1  -0.06609871 -1.9960888 0.007570752\n",
       "electric    1    1   2.07187764  2.2932033 0.005259948\n",
       "tv          1    1   2.80312970  5.8588807 0.004398554"
      ]
     },
     "metadata": {},
     "output_type": "display_data"
    }
   ],
   "source": [
    "library(psych)\n",
    "describe(data)"
   ]
  },
  {
   "cell_type": "markdown",
   "metadata": {},
   "source": [
    "## Plot"
   ]
  },
  {
   "cell_type": "code",
   "execution_count": 19,
   "metadata": {
    "fig.height": 5,
    "lines_to_next_cell": 2
   },
   "outputs": [
    {
     "data": {
      "image/png": "[encoded data removed]",
      "text/plain": [
       "plot without title"
      ]
     },
     "metadata": {},
     "output_type": "display_data"
    }
   ],
   "source": [
    "attach(data)\n",
    "par(mfrow = c(1, 2))\n",
    "blue_transp <- adjustcolor(\"blue\", alpha.f = 0.1)\n",
    "plot(age, children, pch = 19, col = blue_transp)\n",
    "plot(educ, children, pch = 19, col = blue_transp)"
   ]
  },
  {
   "cell_type": "markdown",
   "metadata": {
    "lines_to_next_cell": 0
   },
   "source": [
    "## MLE of the Poisson Model"
   ]
  },
  {
   "cell_type": "markdown",
   "metadata": {
    "lines_to_next_cell": 0
   },
   "source": [
    "Maximum likelihood function using built-in function `glm()`:"
   ]
  },
  {
   "cell_type": "code",
   "execution_count": 20,
   "metadata": {
    "lines_to_next_cell": 0
   },
   "outputs": [],
   "source": [
    "mle <- glm(children ~ educ + age + agesq + evermarr + \n",
    "             urban + electric + tv,\n",
    "           family = \"poisson\", data = data)"
   ]
  },
  {
   "cell_type": "markdown",
   "metadata": {
    "lines_to_next_cell": 0
   },
   "source": [
    "Maximum likelihood function using our own function:"
   ]
  },
  {
   "cell_type": "code",
   "execution_count": 21,
   "metadata": {},
   "outputs": [],
   "source": [
    "y <- data[, y_lab]\n",
    "x <- as.matrix(data[, x_lab])\n",
    "x <- cbind(1, x)          # for intercept term\n",
    "beta0 <- rep(0, ncol(x))  # starting values\n",
    "opt <- optim(beta0, obj_poisson, method = \"BFGS\", \n",
    "             y = y, x = x)"
   ]
  },
  {
   "cell_type": "markdown",
   "metadata": {},
   "source": [
    "## MLE of the Poisson Model\n",
    "\n",
    "**Results different from `glm()`?**\n",
    "\n",
    "Optimization algorithms are iterative methods that rely on different criteria\n",
    "to dertermine if/when the optimum has been reached.\n",
    "\n",
    "**For example:** Change in the objective function, change in the parameter values,\n",
    "change in the gradient, step size, etc.\n",
    "\n",
    "*[More in Advanced Microeconometrics course].*\n",
    "\n",
    "**Try to adjust tuning parameters**, for example add \n",
    "`control = list(ndeps = rep(1e-8, ncol(x)))` to `optim()` to change step size \n",
    "of gradient approximation."
   ]
  },
  {
   "cell_type": "markdown",
   "metadata": {},
   "source": [
    "## Summarizing the Empirical Results"
   ]
  },
  {
   "cell_type": "code",
   "execution_count": 22,
   "metadata": {},
   "outputs": [
    {
     "data": {
      "text/plain": [
       "\n",
       "Call:\n",
       "glm(formula = children ~ educ + age + agesq + evermarr + urban + \n",
       "    electric + tv, family = \"poisson\", data = data)\n",
       "\n",
       "Deviance Residuals: \n",
       "    Min       1Q   Median       3Q      Max  \n",
       "-3.5620  -0.8116  -0.1091   0.5439   2.8893  \n",
       "\n",
       "Coefficients:\n",
       "              Estimate Std. Error z value Pr(>|z|)    \n",
       "(Intercept) -5.3748294  0.1628671 -33.001  < 2e-16 ***\n",
       "educ        -0.0216645  0.0029131  -7.437 1.03e-13 ***\n",
       "age          0.3373308  0.0099365  33.949  < 2e-16 ***\n",
       "agesq       -0.0041158  0.0001453 -28.331  < 2e-16 ***\n",
       "evermarr     0.3147510  0.0244473  12.875  < 2e-16 ***\n",
       "urban       -0.0860549  0.0216487  -3.975 7.04e-05 ***\n",
       "electric    -0.1205347  0.0388390  -3.103  0.00191 ** \n",
       "tv          -0.1447046  0.0473875  -3.054  0.00226 ** \n",
       "---\n",
       "Signif. codes:  0 '***' 0.001 '**' 0.01 '*' 0.05 '.' 0.1 ' ' 1\n",
       "\n",
       "(Dispersion parameter for poisson family taken to be 1)\n",
       "\n",
       "    Null deviance: 10076.1  on 4357  degrees of freedom\n",
       "Residual deviance:  3908.8  on 4350  degrees of freedom\n",
       "AIC: 13010\n",
       "\n",
       "Number of Fisher Scoring iterations: 5\n"
      ]
     },
     "metadata": {},
     "output_type": "display_data"
    }
   ],
   "source": [
    "summary(mle)"
   ]
  },
  {
   "cell_type": "markdown",
   "metadata": {
    "lines_to_next_cell": 0
   },
   "source": [
    "## Fitted Values"
   ]
  },
  {
   "cell_type": "code",
   "execution_count": 23,
   "metadata": {
    "fig.height": 6
   },
   "outputs": [
    {
     "data": {
      "image/png": "[encoded data removed]",
      "text/plain": [
       "Plot with title \"Density of fitted mean values\""
      ]
     },
     "metadata": {},
     "output_type": "display_data"
    }
   ],
   "source": [
    "plot(density(mle$fitted.values), \n",
    "     main = \"Density of fitted mean values\")"
   ]
  },
  {
   "cell_type": "markdown",
   "metadata": {
    "lines_to_next_cell": 0
   },
   "source": [
    "## Formatting the results"
   ]
  },
  {
   "cell_type": "code",
   "execution_count": 24,
   "metadata": {},
   "outputs": [
    {
     "name": "stderr",
     "output_type": "stream",
     "text": [
      "Warning message:\n",
      "\"package 'xtable' was built under R version 3.6.3\""
     ]
    },
    {
     "data": {
      "text/html": [
       "<table>\n",
       "<caption>A df[,4]: 8 × 4</caption>\n",
       "<thead>\n",
       "\t<tr><th></th><th scope=col>Estimate</th><th scope=col>Std. Error</th><th scope=col>z value</th><th scope=col>Pr(&gt;|z|)</th></tr>\n",
       "\t<tr><th></th><th scope=col>&lt;dbl&gt;</th><th scope=col>&lt;dbl&gt;</th><th scope=col>&lt;dbl&gt;</th><th scope=col>&lt;dbl&gt;</th></tr>\n",
       "</thead>\n",
       "<tbody>\n",
       "\t<tr><th scope=row>(Intercept)</th><td>-5.374829404</td><td>0.1628671333</td><td>-33.001314</td><td>7.777386e-239</td></tr>\n",
       "\t<tr><th scope=row>educ</th><td>-0.021664469</td><td>0.0029131037</td><td> -7.436903</td><td> 1.030735e-13</td></tr>\n",
       "\t<tr><th scope=row>age</th><td> 0.337330821</td><td>0.0099365076</td><td> 33.948630</td><td>1.277867e-252</td></tr>\n",
       "\t<tr><th scope=row>agesq</th><td>-0.004115829</td><td>0.0001452774</td><td>-28.330823</td><td>1.442293e-176</td></tr>\n",
       "\t<tr><th scope=row>evermarr</th><td> 0.314751037</td><td>0.0244472864</td><td> 12.874682</td><td> 6.249598e-38</td></tr>\n",
       "\t<tr><th scope=row>urban</th><td>-0.086054903</td><td>0.0216486641</td><td> -3.975068</td><td> 7.035927e-05</td></tr>\n",
       "\t<tr><th scope=row>electric</th><td>-0.120534717</td><td>0.0388390189</td><td> -3.103444</td><td> 1.912825e-03</td></tr>\n",
       "\t<tr><th scope=row>tv</th><td>-0.144704596</td><td>0.0473875108</td><td> -3.053644</td><td> 2.260801e-03</td></tr>\n",
       "</tbody>\n",
       "</table>\n"
      ],
      "text/latex": [
       "A df[,4]: 8 × 4\n",
       "\\begin{tabular}{r|llll}\n",
       "  & Estimate & Std. Error & z value & Pr(>\\textbar{}z\\textbar{})\\\\\n",
       "  & <dbl> & <dbl> & <dbl> & <dbl>\\\\\n",
       "\\hline\n",
       "\t(Intercept) & -5.374829404 & 0.1628671333 & -33.001314 & 7.777386e-239\\\\\n",
       "\teduc & -0.021664469 & 0.0029131037 &  -7.436903 &  1.030735e-13\\\\\n",
       "\tage &  0.337330821 & 0.0099365076 &  33.948630 & 1.277867e-252\\\\\n",
       "\tagesq & -0.004115829 & 0.0001452774 & -28.330823 & 1.442293e-176\\\\\n",
       "\tevermarr &  0.314751037 & 0.0244472864 &  12.874682 &  6.249598e-38\\\\\n",
       "\turban & -0.086054903 & 0.0216486641 &  -3.975068 &  7.035927e-05\\\\\n",
       "\telectric & -0.120534717 & 0.0388390189 &  -3.103444 &  1.912825e-03\\\\\n",
       "\ttv & -0.144704596 & 0.0473875108 &  -3.053644 &  2.260801e-03\\\\\n",
       "\\end{tabular}\n"
      ],
      "text/markdown": [
       "\n",
       "A df[,4]: 8 × 4\n",
       "\n",
       "| <!--/--> | Estimate &lt;dbl&gt; | Std. Error &lt;dbl&gt; | z value &lt;dbl&gt; | Pr(&gt;|z|) &lt;dbl&gt; |\n",
       "|---|---|---|---|---|\n",
       "| (Intercept) | -5.374829404 | 0.1628671333 | -33.001314 | 7.777386e-239 |\n",
       "| educ | -0.021664469 | 0.0029131037 |  -7.436903 |  1.030735e-13 |\n",
       "| age |  0.337330821 | 0.0099365076 |  33.948630 | 1.277867e-252 |\n",
       "| agesq | -0.004115829 | 0.0001452774 | -28.330823 | 1.442293e-176 |\n",
       "| evermarr |  0.314751037 | 0.0244472864 |  12.874682 |  6.249598e-38 |\n",
       "| urban | -0.086054903 | 0.0216486641 |  -3.975068 |  7.035927e-05 |\n",
       "| electric | -0.120534717 | 0.0388390189 |  -3.103444 |  1.912825e-03 |\n",
       "| tv | -0.144704596 | 0.0473875108 |  -3.053644 |  2.260801e-03 |\n",
       "\n"
      ],
      "text/plain": [
       "            Estimate     Std. Error   z value    Pr(>|z|)     \n",
       "(Intercept) -5.374829404 0.1628671333 -33.001314 7.777386e-239\n",
       "educ        -0.021664469 0.0029131037  -7.436903  1.030735e-13\n",
       "age          0.337330821 0.0099365076  33.948630 1.277867e-252\n",
       "agesq       -0.004115829 0.0001452774 -28.330823 1.442293e-176\n",
       "evermarr     0.314751037 0.0244472864  12.874682  6.249598e-38\n",
       "urban       -0.086054903 0.0216486641  -3.975068  7.035927e-05\n",
       "electric    -0.120534717 0.0388390189  -3.103444  1.912825e-03\n",
       "tv          -0.144704596 0.0473875108  -3.053644  2.260801e-03"
      ]
     },
     "metadata": {},
     "output_type": "display_data"
    }
   ],
   "source": [
    "library(xtable)\n",
    "xtable(mle)"
   ]
  }
 ],
 "metadata": {
  "jupytext": {
   "cell_metadata_filter": "fig.height,tags,name,-all",
   "main_language": "R",
   "notebook_metadata_filter": "-all"
  },
  "kernelspec": {
   "display_name": "R",
   "language": "R",
   "name": "ir"
  },
  "language_info": {
   "codemirror_mode": "r",
   "file_extension": ".r",
   "mimetype": "text/x-r-source",
   "name": "R",
   "pygments_lexer": "r",
   "version": "3.6.0"
  }
 },
 "nbformat": 4,
 "nbformat_minor": 4
}
